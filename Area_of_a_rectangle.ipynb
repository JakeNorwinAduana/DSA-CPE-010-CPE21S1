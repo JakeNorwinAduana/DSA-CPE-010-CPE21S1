{
  "cells": [
    {
      "cell_type": "markdown",
      "metadata": {
        "id": "view-in-github",
        "colab_type": "text"
      },
      "source": [
        "<a href=\"https://colab.research.google.com/github/JakeNorwinAduana/DSA-CPE-010-CPE21S1/blob/main/Area_of_a_rectangle.ipynb\" target=\"_parent\"><img src=\"https://colab.research.google.com/assets/colab-badge.svg\" alt=\"Open In Colab\"/></a>"
      ]
    },
    {
      "cell_type": "code",
      "source": [
        "def rectangle(length,width):\n",
        "  return length,width\n",
        "def main():\n",
        "  length = int(input(\"Enter the length: \"))\n",
        "  width = int(input(\"Enter the width: \"))\n",
        "  area = length * width\n",
        "  print(\"The area of the rectangle is\",area)\n",
        "\n",
        "main()"
      ],
      "metadata": {
        "colab": {
          "base_uri": "https://localhost:8080/"
        },
        "id": "d02eNgb4uB4p",
        "outputId": "82a11107-2b7a-4b24-e8eb-4d65d318c46f"
      },
      "execution_count": 7,
      "outputs": [
        {
          "output_type": "stream",
          "name": "stdout",
          "text": [
            "Enter the length: 10\n",
            "Enter the width: 10\n",
            "The area of the rectangle is 100\n"
          ]
        }
      ]
    }
  ],
  "metadata": {
    "colab": {
      "toc_visible": true,
      "provenance": [],
      "include_colab_link": true
    },
    "kernelspec": {
      "display_name": "Python 3",
      "name": "python3"
    }
  },
  "nbformat": 4,
  "nbformat_minor": 0
}