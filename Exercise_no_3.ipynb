{
  "cells": [
    {
      "cell_type": "markdown",
      "metadata": {
        "id": "view-in-github",
        "colab_type": "text"
      },
      "source": [
        "<a href=\"https://colab.research.google.com/github/JakeNorwinAduana/DSA-CPE-010-CPE21S1/blob/main/Exercise_no_3.ipynb\" target=\"_parent\"><img src=\"https://colab.research.google.com/assets/colab-badge.svg\" alt=\"Open In Colab\"/></a>"
      ]
    },
    {
      "cell_type": "code",
      "source": [
        "#Accesing elements in an Array\n",
        "\n",
        "animals = ['cat','dog','fish']\n",
        "print(animals[0])"
      ],
      "metadata": {
        "colab": {
          "base_uri": "https://localhost:8080/"
        },
        "id": "CWZrMFTuM-g7",
        "outputId": "a3599eff-10bb-43a7-a415-592550296ed0"
      },
      "execution_count": 1,
      "outputs": [
        {
          "output_type": "stream",
          "name": "stdout",
          "text": [
            "cat\n"
          ]
        }
      ]
    },
    {
      "cell_type": "code",
      "source": [
        "#Accesing elements in an Array\n",
        "\n",
        "animals = ['cat','dog','fish']\n",
        "animals[0]='monkey'\n",
        "print(animals[0])"
      ],
      "metadata": {
        "colab": {
          "base_uri": "https://localhost:8080/"
        },
        "id": "vPc5ho7pNTOm",
        "outputId": "4180da62-dc88-42ec-8abd-434816c337ea"
      },
      "execution_count": 2,
      "outputs": [
        {
          "output_type": "stream",
          "name": "stdout",
          "text": [
            "monkey\n"
          ]
        }
      ]
    },
    {
      "cell_type": "code",
      "source": [
        "#Accesing elements in an Array\n",
        "\n",
        "animals = ['cat','dog','fish']\n",
        "x=len(animals)\n",
        "print(x)"
      ],
      "metadata": {
        "colab": {
          "base_uri": "https://localhost:8080/"
        },
        "id": "lA5dodj7NYV1",
        "outputId": "3412f2fa-7d66-49c9-a725-35fcc4d5cf05"
      },
      "execution_count": 15,
      "outputs": [
        {
          "output_type": "stream",
          "name": "stdout",
          "text": [
            "3\n"
          ]
        }
      ]
    },
    {
      "cell_type": "code",
      "source": [
        "#Accesing elements in an Array\n",
        "\n",
        "adj = ['kind','friendly','lovable']\n",
        "animals = ['cat','dog','fish']\n",
        "for x in adj:\n",
        "    for y in animals:\n",
        "        print(x,y)"
      ],
      "metadata": {
        "colab": {
          "base_uri": "https://localhost:8080/"
        },
        "id": "C-LNOop4NYi1",
        "outputId": "f19b0ea8-2532-4125-be74-d425e2b25139"
      },
      "execution_count": 14,
      "outputs": [
        {
          "output_type": "stream",
          "name": "stdout",
          "text": [
            "kind cat\n",
            "kind dog\n",
            "kind fish\n",
            "friendly cat\n",
            "friendly dog\n",
            "friendly fish\n",
            "lovable cat\n",
            "lovable dog\n",
            "lovable fish\n"
          ]
        }
      ]
    },
    {
      "cell_type": "code",
      "source": [
        "#adding an element in an Array\n",
        "\n",
        "animals = ['cat','dog','fish']\n",
        "animals.append('monkey')\n",
        "print(animals)"
      ],
      "metadata": {
        "colab": {
          "base_uri": "https://localhost:8080/"
        },
        "id": "sfloD0JQO0FL",
        "outputId": "fe3cad6b-0aa1-4d6e-9dd1-2c44036c37b2"
      },
      "execution_count": 13,
      "outputs": [
        {
          "output_type": "stream",
          "name": "stdout",
          "text": [
            "['cat', 'dog', 'fish', 'monkey']\n"
          ]
        }
      ]
    },
    {
      "cell_type": "code",
      "source": [
        "#adding an element in an Array\n",
        "\n",
        "animals = ['cat','dog','fish']\n",
        "animals.insert(0,'bird')\n",
        "animals.insert(2,'monkey')\n",
        "print(animals)"
      ],
      "metadata": {
        "colab": {
          "base_uri": "https://localhost:8080/"
        },
        "id": "fuJrJ2AhPH1Z",
        "outputId": "25784309-9313-45a0-bc80-6e802d5cd286"
      },
      "execution_count": 12,
      "outputs": [
        {
          "output_type": "stream",
          "name": "stdout",
          "text": [
            "['bird', 'cat', 'monkey', 'dog', 'fish']\n"
          ]
        }
      ]
    },
    {
      "cell_type": "code",
      "source": [
        "animals.pop(3)\n",
        "print(animals)"
      ],
      "metadata": {
        "colab": {
          "base_uri": "https://localhost:8080/"
        },
        "id": "dIpXzsAJQaU-",
        "outputId": "8791fc8f-d0ab-4996-c1fa-54660995d612"
      },
      "execution_count": 11,
      "outputs": [
        {
          "output_type": "stream",
          "name": "stdout",
          "text": [
            "['cow', 'dog', 'dog', 'monkey']\n"
          ]
        }
      ]
    },
    {
      "cell_type": "code",
      "source": [
        "animals.count('cat')"
      ],
      "metadata": {
        "colab": {
          "base_uri": "https://localhost:8080/"
        },
        "id": "0Wg6ef1KQmAc",
        "outputId": "8280a672-1fc1-4c0b-e249-44aafa82ae22"
      },
      "execution_count": 10,
      "outputs": [
        {
          "output_type": "execute_result",
          "data": {
            "text/plain": [
              "0"
            ]
          },
          "metadata": {},
          "execution_count": 10
        }
      ]
    },
    {
      "cell_type": "code",
      "source": [
        "animals.sort()\n",
        "print(animals)"
      ],
      "metadata": {
        "colab": {
          "base_uri": "https://localhost:8080/"
        },
        "id": "umYC7DeJQpPA",
        "outputId": "b1529495-23fd-43b4-d5a7-08be86c40426"
      },
      "execution_count": 8,
      "outputs": [
        {
          "output_type": "stream",
          "name": "stdout",
          "text": [
            "['cow', 'dog', 'dog', 'fish', 'monkey']\n"
          ]
        }
      ]
    },
    {
      "cell_type": "code",
      "source": [
        "animals.insert(2,'dog')\n",
        "animals.insert(3,'cow')\n",
        "print(animals)"
      ],
      "metadata": {
        "colab": {
          "base_uri": "https://localhost:8080/"
        },
        "id": "ZBwKCZr_RI03",
        "outputId": "42903f72-f478-4f19-af3a-db50a3fe17f2"
      },
      "execution_count": 5,
      "outputs": [
        {
          "output_type": "stream",
          "name": "stdout",
          "text": [
            "['monkey', 'dog', 'dog', 'cow', 'fish']\n"
          ]
        }
      ]
    },
    {
      "cell_type": "code",
      "source": [
        "print(animals)\n",
        "animals.reverse()\n",
        "print(animals)"
      ],
      "metadata": {
        "colab": {
          "base_uri": "https://localhost:8080/"
        },
        "id": "u88rvCxHQEE2",
        "outputId": "6277c1f8-0ebc-44b5-e202-44ffe1e2971b"
      },
      "execution_count": 4,
      "outputs": [
        {
          "output_type": "stream",
          "name": "stdout",
          "text": [
            "['fish', 'dog', 'monkey']\n",
            "['monkey', 'dog', 'fish']\n"
          ]
        }
      ]
    }
  ],
  "metadata": {
    "colab": {
      "provenance": [],
      "include_colab_link": true
    },
    "kernelspec": {
      "display_name": "Python 3",
      "name": "python3"
    }
  },
  "nbformat": 4,
  "nbformat_minor": 0
}