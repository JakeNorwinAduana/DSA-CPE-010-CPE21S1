{
  "cells": [
    {
      "cell_type": "markdown",
      "metadata": {
        "id": "view-in-github",
        "colab_type": "text"
      },
      "source": [
        "<a href=\"https://colab.research.google.com/github/JakeNorwinAduana/DSA-CPE-010-CPE21S1/blob/main/Exercise_5.ipynb\" target=\"_parent\"><img src=\"https://colab.research.google.com/assets/colab-badge.svg\" alt=\"Open In Colab\"/></a>"
      ]
    },
    {
      "cell_type": "markdown",
      "source": [
        "    Data Structure\n",
        "    Non primitive\n",
        "    1. Array\n",
        "    2. Linked List\n",
        "    3.\n",
        "    4."
      ],
      "metadata": {
        "id": "LxqkYoQQZBY1"
      }
    },
    {
      "cell_type": "code",
      "source": [
        "import array\n",
        "\n",
        "array.typecodes\n",
        "a = array.array('i', [1,2,3,4,5,6])\n",
        "b = array.array('f',[1.5,2.5,3.5,4.5,5.5,6.5])\n",
        "a.typecode\n",
        "b.typecode"
      ],
      "metadata": {
        "colab": {
          "base_uri": "https://localhost:8080/",
          "height": 35
        },
        "id": "lo2xG_xyYlyF",
        "outputId": "0840cf2c-5552-49bc-8f09-33b1312887e0"
      },
      "execution_count": 17,
      "outputs": [
        {
          "output_type": "execute_result",
          "data": {
            "text/plain": [
              "'f'"
            ],
            "application/vnd.google.colaboratory.intrinsic+json": {
              "type": "string"
            }
          },
          "metadata": {},
          "execution_count": 17
        }
      ]
    },
    {
      "cell_type": "code",
      "source": [
        "import array\n",
        "\n",
        "a = array.array('i', [4,5,6,7])\n",
        "a.insert(1,2)\n",
        "a\n",
        "a.insert(-1,0)\n",
        "a\n",
        "a.insert(10,-1)\n",
        "a"
      ],
      "metadata": {
        "colab": {
          "base_uri": "https://localhost:8080/"
        },
        "id": "dThDjE9Ba25c",
        "outputId": "d716bac6-2ac1-4b02-d774-239b5f38b553"
      },
      "execution_count": 18,
      "outputs": [
        {
          "output_type": "execute_result",
          "data": {
            "text/plain": [
              "array('i', [4, 2, 5, 6, 0, 7, -1])"
            ]
          },
          "metadata": {},
          "execution_count": 18
        }
      ]
    },
    {
      "cell_type": "code",
      "source": [
        "import array\n",
        "\n",
        "array.typecodes\n",
        "a = array.array('i', [4,5,6,7])\n",
        "a.insert(1,2)\n"
      ],
      "metadata": {
        "id": "qXJQvc7Vc6hD"
      },
      "execution_count": 19,
      "outputs": []
    },
    {
      "cell_type": "code",
      "source": [
        "class Node:\n",
        "  def __init__(self, data):\n",
        "    self.data = data\n",
        "    self.next = None\n",
        "\n",
        "class LinkedList:\n",
        "  def __init__(self):\n",
        "    self.head = None\n",
        "\n",
        "if __name__ == '__main__':\n",
        "  llist = LinkedList()\n",
        "  llist.head = Node(1)\n",
        "  second = Node(2)\n",
        "  third = Node(3)\n",
        "\n",
        "  llist.head.next = second\n",
        "  second.next = third\n",
        "\n",
        "  def printdata(self):\n",
        "    temp = self.head\n",
        "    while(temp):\n",
        "      print(temp.data)\n",
        "      temp = temp.next\n",
        "\n",
        "printdata(llist)"
      ],
      "metadata": {
        "colab": {
          "base_uri": "https://localhost:8080/"
        },
        "id": "WYAIsnv4d3ej",
        "outputId": "6afaa983-7834-4a28-bce1-249f50a6dab8"
      },
      "execution_count": 21,
      "outputs": [
        {
          "output_type": "stream",
          "name": "stdout",
          "text": [
            "1\n",
            "2\n",
            "3\n"
          ]
        }
      ]
    },
    {
      "cell_type": "code",
      "source": [
        "\n",
        "\n",
        "#NOTE:This is C++ Code\n",
        "\n",
        "\n",
        "#include <iostream>\n",
        "using namespace std;\n",
        "\n",
        "// Creating a node\n",
        "class node\n",
        "{\n",
        "    public:\n",
        "    int value;\n",
        "    node* next;\n",
        "};\n",
        "\n",
        "int main()\n",
        "{\n",
        "    node* head;\n",
        "    node* one = NULL;\n",
        "    node* two = NULL;\n",
        "    node* three = NULL;\n",
        "\n",
        "// allocate 3 nodes in the heap\n",
        "one = new node();\n",
        "two = new node();\n",
        "three = new node();\n",
        "\n",
        "//assign value values\n",
        "one -> value =1;\n",
        "two -> value =2;\n",
        "three -> value =3;\n",
        "\n",
        "//connect nodes\n",
        "one ->next = two;\n",
        "two ->next = three;\n",
        "three ->next = NULL;\n",
        "\n",
        "//print the linked list value\n",
        "head = one;\n",
        "while (head != NULL)\n",
        "{\n",
        "    cout << head -> value;\n",
        "    head = head -> next;\n",
        "\n",
        "}\n",
        "return 0;\n",
        "}"
      ],
      "metadata": {
        "id": "bxuaRpgIqP8h"
      },
      "execution_count": null,
      "outputs": []
    }
  ],
  "metadata": {
    "colab": {
      "toc_visible": true,
      "provenance": [],
      "include_colab_link": true
    },
    "kernelspec": {
      "display_name": "Python 3",
      "name": "python3"
    }
  },
  "nbformat": 4,
  "nbformat_minor": 0
}