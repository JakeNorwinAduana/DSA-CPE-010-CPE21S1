{
  "cells": [
    {
      "cell_type": "markdown",
      "metadata": {
        "id": "view-in-github",
        "colab_type": "text"
      },
      "source": [
        "<a href=\"https://colab.research.google.com/github/JakeNorwinAduana/DSA-CPE-010-CPE21S1/blob/main/Exercise_4.ipynb\" target=\"_parent\"><img src=\"https://colab.research.google.com/assets/colab-badge.svg\" alt=\"Open In Colab\"/></a>"
      ]
    },
    {
      "cell_type": "code",
      "source": [
        "def reverse_words(words):\n",
        "  reverse_words = []\n",
        "  for word in words:\n",
        "    reverse_words.append(word[::-1])\n",
        "  return reverse_words\n",
        "print(word)\n",
        "word = ['dog','cat','bird','cow']\n",
        "print(reverse_words(word))"
      ],
      "metadata": {
        "colab": {
          "base_uri": "https://localhost:8080/"
        },
        "id": "HXJe84Cqt6A4",
        "outputId": "2d57211f-4f06-4596-aa70-e4f4d43db2ae"
      },
      "execution_count": 51,
      "outputs": [
        {
          "output_type": "stream",
          "name": "stdout",
          "text": [
            "cat\n",
            "['god', 'tac', 'drib', 'woc']\n"
          ]
        }
      ]
    },
    {
      "cell_type": "code",
      "source": [
        "y = []\n",
        "a = 0\n",
        "while a != 4:\n",
        "  w = input((\"enter word: \"))\n",
        "  y.append(w)\n",
        "  a += 1\n",
        "  for x in y:\n",
        "    z = []\n",
        "    z.append(x[::-1])\n",
        "    print(z)"
      ],
      "metadata": {
        "id": "wlQmaJms5ZPX",
        "outputId": "d478c58e-8f40-4158-bdff-1a4bd6f2a7af",
        "colab": {
          "base_uri": "https://localhost:8080/"
        }
      },
      "execution_count": 85,
      "outputs": [
        {
          "output_type": "stream",
          "name": "stdout",
          "text": [
            "enter word: DOG\n",
            "['GOD']\n",
            "enter word: cat\n",
            "['GOD']\n",
            "['tac']\n",
            "enter word: rock\n",
            "['GOD']\n",
            "['tac']\n",
            "['kcor']\n",
            "enter word: racecar\n",
            "['GOD']\n",
            "['tac']\n",
            "['kcor']\n",
            "['racecar']\n"
          ]
        }
      ]
    }
  ],
  "metadata": {
    "colab": {
      "toc_visible": true,
      "provenance": [],
      "include_colab_link": true
    },
    "kernelspec": {
      "display_name": "Python 3",
      "name": "python3"
    }
  },
  "nbformat": 4,
  "nbformat_minor": 0
}