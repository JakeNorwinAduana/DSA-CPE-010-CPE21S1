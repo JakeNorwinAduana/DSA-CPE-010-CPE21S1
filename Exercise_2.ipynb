{
  "cells": [
    {
      "cell_type": "markdown",
      "metadata": {
        "id": "view-in-github",
        "colab_type": "text"
      },
      "source": [
        "<a href=\"https://colab.research.google.com/github/JakeNorwinAduana/DSA-CPE-010-CPE21S1/blob/main/Exercise_2.ipynb\" target=\"_parent\"><img src=\"https://colab.research.google.com/assets/colab-badge.svg\" alt=\"Open In Colab\"/></a>"
      ]
    },
    {
      "cell_type": "code",
      "source": [
        "class shapes():\n",
        "  def Area(self):\n",
        "    pass\n",
        "\n",
        "  class Rectangle:\n",
        "    def __init__(self,length,width):\n",
        "      self.length=length\n",
        "      self.width=width\n",
        "  def Area(self):\n",
        "    return self.length*self.width\n",
        "  length=float(input(\"Enter length of rectangle:\"))\n",
        "  width=float(input(\"Enter widht of rectangle:\"))\n",
        "  rectangle=Rectangle(length,width)\n",
        "\n",
        "  print(Area(rectangle))\n",
        "\n",
        "  class Triangle:\n",
        "    def __init__(self,base,height):\n",
        "      self.base=base\n",
        "      self.height=height\n",
        "  def Area(self):\n",
        "    return self.base*self.height*.5\n",
        "  base=float(input(\"Enter base of triangle:\"))\n",
        "  height=float(input(\"Enter height of triangle:\"))\n",
        "  triangle=Triangle(base,height)\n",
        "\n",
        "  print(Area(triangle))\n",
        "\n",
        "  class Square:\n",
        "    def __init__(self,side):\n",
        "     self.side=side\n",
        "  def Area(self):\n",
        "    return self.side**2\n",
        "  side=float(input(\"Enter side of square:\"))\n",
        "  square=Square(side)\n",
        "\n",
        "  print(Area(square))"
      ],
      "metadata": {
        "colab": {
          "base_uri": "https://localhost:8080/"
        },
        "id": "wEA-XteWTAlB",
        "outputId": "8e055299-f7fe-4c92-e887-d31b70c82aaf"
      },
      "execution_count": 61,
      "outputs": [
        {
          "output_type": "stream",
          "name": "stdout",
          "text": [
            "Enter length of rectangle:10\n",
            "Enter widht of rectangle:10\n",
            "100.0\n",
            "Enter base of triangle:10\n",
            "Enter height of triangle:10\n",
            "50.0\n",
            "Enter side of square:10\n",
            "100.0\n"
          ]
        }
      ]
    }
  ],
  "metadata": {
    "colab": {
      "toc_visible": true,
      "provenance": [],
      "include_colab_link": true
    },
    "kernelspec": {
      "display_name": "Python 3",
      "name": "python3"
    }
  },
  "nbformat": 4,
  "nbformat_minor": 0
}